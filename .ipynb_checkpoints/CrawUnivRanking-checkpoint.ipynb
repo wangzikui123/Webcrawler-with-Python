{
 "cells": [
  {
   "cell_type": "code",
   "execution_count": 17,
   "metadata": {},
   "outputs": [
    {
     "name": "stdout",
     "output_type": "stream",
     "text": [
      "    排名    \t　　　学校名称　　　\t    总分    \n",
      "    1     \t　　　清华大学　　　\t  852.5   \n",
      "    2     \t　　　北京大学　　　\t  746.7   \n",
      "    3     \t　　　浙江大学　　　\t  649.2   \n",
      "    4     \t　　上海交通大学　　\t  625.9   \n",
      "    5     \t　　　南京大学　　　\t  566.1   \n",
      "    6     \t　　　复旦大学　　　\t  556.7   \n",
      "    7     \t　中国科学技术大学　\t  526.4   \n",
      "    8     \t　　华中科技大学　　\t  497.7   \n",
      "    9     \t　　　武汉大学　　　\t   488    \n",
      "    10    \t　　　中山大学　　　\t  457.2   \n",
      "    11    \t　　西安交通大学　　\t  452.5   \n",
      "    12    \t　哈尔滨工业大学　　\t  450.2   \n",
      "    13    \t　北京航空航天大学　\t  445.1   \n",
      "    14    \t　　北京师范大学　　\t  440.9   \n",
      "    15    \t　　　同济大学　　　\t   439    \n",
      "    16    \t　　　四川大学　　　\t  435.7   \n",
      "    17    \t　　　东南大学　　　\t  432.7   \n",
      "    18    \t　　中国人民大学　　\t  409.7   \n",
      "    19    \t　　　南开大学　　　\t  402.1   \n",
      "    20    \t　　北京理工大学　　\t  395.6   \n"
     ]
    }
   ],
   "source": [
    "import requests\n",
    "from bs4 import BeautifulSoup\n",
    "import bs4\n",
    "\n",
    "def getHTMLText(url):\n",
    "    try:\n",
    "        r = requests.get(url, timeout=30)\n",
    "        r.raise_for_status()\n",
    "        r.encoding = r.apparent_encoding\n",
    "        return r.text\n",
    "    except:\n",
    "        return \"\"\n",
    "\n",
    "def fillUnivList(ulist, html):\n",
    "    soup = BeautifulSoup(html, \"html.parser\")\n",
    "    for tr in soup.find('tbody').children:\n",
    "        if isinstance(tr, bs4.element.Tag):\n",
    "            tds = tr('td')\n",
    "            ulist.append([tds[0].text, tds[1].text, tds[4].text])\n",
    "            \n",
    "def printUnivList(ulist, num):\n",
    "    tplt = \"{0:^10}\\t{1:{3}^10}\\t{2:^10}\"\n",
    "    print(tplt.format(\"排名\",\"学校名称\",\"总分\",chr(12288)))\n",
    "    for i in range(num):\n",
    "        u=ulist[i]\n",
    "        print(tplt.format(u[0].strip(),u[1].strip(),u[2].strip(),chr(12288)))\n",
    "        \n",
    "def main():\n",
    "    uinfo = []\n",
    "    url = 'https://www.shanghairanking.cn/rankings/bcur/2020'\n",
    "    html = getHTMLText(url)\n",
    "    fillUnivList(uinfo, html)\n",
    "    printUnivList(uinfo, 20)\n",
    "    \n",
    "main()"
   ]
  }
 ],
 "metadata": {
  "kernelspec": {
   "display_name": "Python 3",
   "language": "python",
   "name": "python3"
  },
  "language_info": {
   "codemirror_mode": {
    "name": "ipython",
    "version": 3
   },
   "file_extension": ".py",
   "mimetype": "text/x-python",
   "name": "python",
   "nbconvert_exporter": "python",
   "pygments_lexer": "ipython3",
   "version": "3.7.3"
  }
 },
 "nbformat": 4,
 "nbformat_minor": 2
}
