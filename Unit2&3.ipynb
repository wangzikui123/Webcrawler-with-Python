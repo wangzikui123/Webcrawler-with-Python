{
 "cells": [
  {
   "cell_type": "code",
   "execution_count": 13,
   "metadata": {},
   "outputs": [
    {
     "name": "stdout",
     "output_type": "stream",
     "text": [
      "(function(d,e){function h(f,b){if(!(a.ec>a.mxe)&&f){a.ter.push(f);b=b||{};var c=f.logLevel||b.logLevel;c&&c!==k&&c!==m&&c!==n&&c!==p||a.ec++;c&&c!=k||a.ecf++;b.pageURL=\"\"+(e.location?e.location.href:\"\");b.logLevel=c;b.attribution=f.attribution||b.attribution;a.erl.push({ex:f,info:b})}}function l(a,b,c,e,g){d.ueLogError({m:a,f:b,l:c,c:\"\"+e,err:g,fromOnError:1,args:arguments},g?{attribution:g.attribution,logLevel:g.logLevel}:void 0);return!1}var k=\"FATAL\",m=\"ERROR\",n=\"WARN\",p=\"DOWNGRADED\",a={ec:0,ecf:0,\n",
      "pec:0,ts:0,erl:[],ter:[],mxe:50,startTimer:function(){a.ts++;setInterval(function(){d.ue&&a.pec<a.ec&&d.uex(\"at\");a.pec=a.ec},1E4)}};l.skipTrace=1;h.skipTrace=1;h.isStub=1;d.ueLogError=h;d.ue_err=a;e.onerror=l})(ue_csm,window);\n",
      "\n",
      "ue.stub(ue,\"event\");ue.stub(ue,\"onSushiUnload\");ue.stub(ue,\"onSushiFlush\");\n",
      "\n",
      "var ue_url='/rd/uedata',\n",
      "ue_sid='461-7355129-2446866',\n",
      "ue_mid='AAHKV2X7AFYLW',\n",
      "ue_sn='www.amazon.cn',\n",
      "ue_furl='fls-cn.amazon.cn',\n",
      "ue_surl='https://unagi-cn.amazon.com/1/events/com.amazon.\n"
     ]
    }
   ],
   "source": [
    "#对于亚马逊等需要更改headers的爬取\n",
    "import requests\n",
    "url = \"https://www.amazon.cn/dp/B0845F3D8L?ref_=Oct_DLandingS_D_a0738b37_60&smid=A3CQWPW49OI3BQ\"\n",
    "try:\n",
    "    kv = {\"User-Agent\":\"Mozilla/5.0\"} #生成一个键值符\n",
    "    r = requests.get(url,headers = kv) #调用requests库的get函数，同时注意键入headers\n",
    "    r.raise_for_status() #调用response对象的函数，检查链接是否有效\n",
    "    r.encoding = r.apparent_encoding #调整为合适编码格式\n",
    "    print(r.text[1000:2000])\n",
    "except:\n",
    "    print(\"Error happened\")"
   ]
  },
  {
   "cell_type": "code",
   "execution_count": 11,
   "metadata": {},
   "outputs": [
    {
     "name": "stdout",
     "output_type": "stream",
     "text": [
      "https://www.so.com/s?q=Python\n",
      "389888\n"
     ]
    }
   ],
   "source": [
    "#对于360等搜索引擎的爬取\n",
    "import requests\n",
    "url = \"https://www.so.com/s\"\n",
    "keyword = \"Python\"\n",
    "try:\n",
    "    kv = {\"q\":keyword}\n",
    "    r = requests.get(url, params = kv)\n",
    "    print(r.request.url)\n",
    "    r.raise_for_status()\n",
    "    print(len(r.text))\n",
    "except:\n",
    "    print(\"Error happened\")"
   ]
  },
  {
   "cell_type": "code",
   "execution_count": 21,
   "metadata": {},
   "outputs": [
    {
     "name": "stdout",
     "output_type": "stream",
     "text": [
      "文件保存成功\n"
     ]
    }
   ],
   "source": [
    "import requests\n",
    "import os\n",
    "url = \"https://ss0.bdstatic.com/70cFuHSh_Q1YnxGkpoWK1HF6hhy/it/u=3440198483,1209991959&fm=26&gp=0.jpg\"\n",
    "root = \"D://personal/爬虫文件/Data1/\"\n",
    "path = root + url.split('/')[-1]\n",
    "try:\n",
    "    if not os.path.exists(root):\n",
    "        os.mkdir(root)\n",
    "    if not os.path.exists(path):\n",
    "        r = requests.get(url)\n",
    "        with open(path, 'wb') as f:\n",
    "            f.write(r.content)\n",
    "            f.close()\n",
    "            print(\"文件保存成功\")\n",
    "    else:\n",
    "        print(\"文件已存在\")\n",
    "except:\n",
    "    print(\"爬取失败\")"
   ]
  },
  {
   "cell_type": "code",
   "execution_count": 29,
   "metadata": {},
   "outputs": [
    {
     "name": "stdout",
     "output_type": "stream",
     "text": [
      "  <span class=\"Whwtdhalf w15-0\">获取的IP地址</span>\r\n",
      "                    <span class=\"Whwtdhalf w15-0\">数字地址</span>\r\n",
      "                    <span class=\"Whwtdhalf w50-0\">IP的物理位置</span>\r\n",
      "                </div>\r\n",
      "                                                <div class=\"WhwtdWrap bor-b1s col-gray03\" style=\"height:auto\">\r\n",
      "                    <span class=\"Whwtdhalf w15-0 lh45\">173.199.118.198</span>\r\n",
      "                    <span class=\"Whwtdhalf w15-0 lh45\" style=\"cursor:pointer;\" onclick=\"AiWenIpData('173.199.118.198')\">173.199.118.198</span>\r\n",
      "                    <span class=\"Whwtdhalf w15-0 lh45\">2915530438</span>\r\n",
      "                    <span class=\"Whwtdhalf w30-0 lh24 tl ml80\">\r\n",
      "                        <p>美国 新泽西州choopa有限公司</p>\r\n",
      "                                                <em>美国新泽西</em><a class=\"col-gray ml25 ip138\" style=\"text-decoration: none;cursor:pointer\">ip138提供</a>\r\n",
      "                                            </span>\r\n",
      "                </div>\r\n",
      "                                            </d\n"
     ]
    }
   ],
   "source": [
    "import requests\n",
    "try:\n",
    "    url = \"https://ip.tool.chinaz.com/\"\n",
    "    ip = \"173.199.118.198\"\n",
    "    r = requests.get(url + ip)\n",
    "    r.raise_for_status()\n",
    "    r.encoding = r.apparent_encoding\n",
    "    print(r.text[19500:20500])\n",
    "except:\n",
    "    print(\"爬取失败\")"
   ]
  }
 ],
 "metadata": {
  "kernelspec": {
   "display_name": "Python 3",
   "language": "python",
   "name": "python3"
  },
  "language_info": {
   "codemirror_mode": {
    "name": "ipython",
    "version": 3
   },
   "file_extension": ".py",
   "mimetype": "text/x-python",
   "name": "python",
   "nbconvert_exporter": "python",
   "pygments_lexer": "ipython3",
   "version": "3.7.3"
  }
 },
 "nbformat": 4,
 "nbformat_minor": 2
}
